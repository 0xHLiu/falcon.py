{
 "cells": [
  {
   "metadata": {},
   "cell_type": "markdown",
   "source": "Set Up",
   "id": "18c811592a2c99c4"
  },
  {
   "cell_type": "code",
   "id": "5b497b3e-9aeb-45c5-9804-5b2a72a19381",
   "metadata": {
    "ExecuteTime": {
     "end_time": "2024-09-08T12:04:38.605857Z",
     "start_time": "2024-09-08T12:04:38.500818Z"
    }
   },
   "source": [
    "import falcon\n",
    "import ntt\n",
    "\n",
    "from common import q\n",
    "from numpy import set_printoptions\n",
    "from math import sqrt\n",
    "from fft import fft, ifft, sub, neg, add_fft, mul_fft\n",
    "from ntt import sub_zq, mul_zq, div_zq\n",
    "from ffsampling import gram, ffldl_fft, ffsampling_fft\n",
    "from ntrugen import ntru_gen\n",
    "from encoding import compress, decompress\n",
    "# https://pycryptodome.readthedocs.io/en/latest/src/hash/shake256.html\n",
    "from Crypto.Hash import SHAKE256, SHA512\n",
    "# Randomness\n",
    "from os import urandom\n",
    "from rng import ChaCha20\n",
    "# For debugging purposes\n",
    "import sys\n",
    "if sys.version_info >= (3, 4):\n",
    "    from importlib import reload  # Python 3.4+ only.\n",
    "\n",
    "set_printoptions(linewidth=200, precision=5, suppress=True)\n",
    "\n",
    "logn = {\n",
    "    2: 1,\n",
    "    4: 2,\n",
    "    8: 3,\n",
    "    16: 4,\n",
    "    32: 5,\n",
    "    64: 6,\n",
    "    128: 7,\n",
    "    256: 8,\n",
    "    512: 9,\n",
    "    1024: 10\n",
    "}\n",
    "\n",
    "# Bytelength of the signing salt and header\n",
    "HEAD_LEN = 1\n",
    "SALT_LEN = 40\n",
    "SEED_LEN = 56\n",
    "\n",
    "# Parameter sets for Falcon:\n",
    "# - n is the dimension/degree of the cyclotomic ring\n",
    "# - sigma is the std. dev. of signatures (Gaussians over a lattice)\n",
    "# - sigmin is a lower bounds on the std. dev. of each Gaussian over Z\n",
    "# - sigbound is the upper bound on ||s0||^2 + ||s1||^2\n",
    "# - sig_bytelen is the bytelength of signatures\n",
    "Params = {\n",
    "    # FalconParam(2, 2)\n",
    "    2: {\n",
    "        \"n\": 2,\n",
    "        \"sigma\": 144.81253976308423,\n",
    "        \"sigmin\": 1.1165085072329104,\n",
    "        \"sig_bound\": 101498,\n",
    "        \"sig_bytelen\": 44,\n",
    "    },\n",
    "    # FalconParam(4, 2)\n",
    "    4: {\n",
    "        \"n\": 4,\n",
    "        \"sigma\": 146.83798833523608,\n",
    "        \"sigmin\": 1.1321247692325274,\n",
    "        \"sig_bound\": 208714,\n",
    "        \"sig_bytelen\": 47,\n",
    "    },\n",
    "    # FalconParam(8, 2)\n",
    "    8: {\n",
    "        \"n\": 8,\n",
    "        \"sigma\": 148.83587593064718,\n",
    "        \"sigmin\": 1.147528535373367,\n",
    "        \"sig_bound\": 428865,\n",
    "        \"sig_bytelen\": 52,\n",
    "    },\n",
    "    # FalconParam(16, 4)\n",
    "    16: {\n",
    "        \"n\": 16,\n",
    "        \"sigma\": 151.78340713845503,\n",
    "        \"sigmin\": 1.170254078853483,\n",
    "        \"sig_bound\": 892039,\n",
    "        \"sig_bytelen\": 63,\n",
    "    },\n",
    "    # FalconParam(32, 8)\n",
    "    32: {\n",
    "        \"n\": 32,\n",
    "        \"sigma\": 154.6747794602761,\n",
    "        \"sigmin\": 1.1925466358390344,\n",
    "        \"sig_bound\": 1852696,\n",
    "        \"sig_bytelen\": 82,\n",
    "    },\n",
    "    # FalconParam(64, 16)\n",
    "    64: {\n",
    "        \"n\": 64,\n",
    "        \"sigma\": 157.51308555044122,\n",
    "        \"sigmin\": 1.2144300507766141,\n",
    "        \"sig_bound\": 3842630,\n",
    "        \"sig_bytelen\": 122,\n",
    "    },\n",
    "    # FalconParam(128, 32)\n",
    "    128: {\n",
    "        \"n\": 128,\n",
    "        \"sigma\": 160.30114421975344,\n",
    "        \"sigmin\": 1.235926056771981,\n",
    "        \"sig_bound\": 7959734,\n",
    "        \"sig_bytelen\": 200,\n",
    "    },\n",
    "    # FalconParam(256, 64)\n",
    "    256: {\n",
    "        \"n\": 256,\n",
    "        \"sigma\": 163.04153322607107,\n",
    "        \"sigmin\": 1.2570545284063217,\n",
    "        \"sig_bound\": 16468416,\n",
    "        \"sig_bytelen\": 356,\n",
    "    },\n",
    "    # FalconParam(512, 128)\n",
    "    512: {\n",
    "        \"n\": 512,\n",
    "        \"sigma\": 165.7366171829776,\n",
    "        \"sigmin\": 1.2778336969128337,\n",
    "        \"sig_bound\": 34034726,\n",
    "        \"sig_bytelen\": 666,\n",
    "    },\n",
    "    # FalconParam(1024, 256)\n",
    "    1024: {\n",
    "        \"n\": 1024,\n",
    "        \"sigma\": 168.38857144654395,\n",
    "        \"sigmin\": 1.298280334344292,\n",
    "        \"sig_bound\": 70265242,\n",
    "        \"sig_bytelen\": 1280,\n",
    "    },\n",
    "}"
   ],
   "outputs": [],
   "execution_count": 99
  },
  {
   "metadata": {
    "ExecuteTime": {
     "end_time": "2024-09-08T12:04:39.112408Z",
     "start_time": "2024-09-08T12:04:39.107440Z"
    }
   },
   "cell_type": "code",
   "source": [
    "import random\n",
    "\n",
    "def seeded_rng(i):\n",
    "    random_generator = random.Random(42)\n",
    "    return bytes(random_generator.getrandbits(8) for _ in range(i))\n",
    "\n",
    "def zero_rng(i):\n",
    "    return b'\\x00'*i"
   ],
   "id": "5d580059ccd6fe02",
   "outputs": [],
   "execution_count": 100
  },
  {
   "metadata": {
    "ExecuteTime": {
     "end_time": "2024-09-08T12:10:50.300757Z",
     "start_time": "2024-09-08T12:10:47.489229Z"
    }
   },
   "cell_type": "code",
   "source": [
    "n = 512\n",
    "sk = falcon.SecretKey(n)\n",
    "pk = falcon.PublicKey(sk)\n",
    "byte_string = b'test'\n",
    "signature = sk.sign(byte_string, seeded_rng)\n",
    "sk.verify(byte_string, signature)"
   ],
   "id": "e76ea8cd68b308bf",
   "outputs": [
    {
     "data": {
      "text/plain": [
       "True"
      ]
     },
     "execution_count": 130,
     "metadata": {},
     "output_type": "execute_result"
    }
   ],
   "execution_count": 130
  },
  {
   "metadata": {},
   "cell_type": "markdown",
   "source": "Public Key Recovery Operations",
   "id": "2f19a82613b2b418"
  },
  {
   "metadata": {
    "ExecuteTime": {
     "end_time": "2024-09-08T12:06:21.255801Z",
     "start_time": "2024-09-08T12:06:21.250149Z"
    }
   },
   "cell_type": "code",
   "source": "import numpy as np",
   "id": "e97f053be0f9f303",
   "outputs": [],
   "execution_count": 111
  },
  {
   "metadata": {
    "ExecuteTime": {
     "end_time": "2024-09-08T12:22:35.553320Z",
     "start_time": "2024-09-08T12:22:35.549892Z"
    }
   },
   "cell_type": "code",
   "source": "all([0,1])",
   "id": "d48fe4060e628252",
   "outputs": [
    {
     "data": {
      "text/plain": [
       "False"
      ]
     },
     "execution_count": 145,
     "metadata": {},
     "output_type": "execute_result"
    }
   ],
   "execution_count": 145
  },
  {
   "cell_type": "code",
   "id": "f652641e-429b-4745-9897-c0e15a304726",
   "metadata": {
    "ExecuteTime": {
     "end_time": "2024-09-08T12:23:22.790946Z",
     "start_time": "2024-09-08T12:23:22.781544Z"
    }
   },
   "source": [
    "def sign_pk_recovery(sk, message, randombytes=urandom):\n",
    "    \"\"\"\n",
    "    Sign a message. The message MUST be a byte string or byte array.\n",
    "    Optionally, one can select the source of (pseudo-)randomness used\n",
    "    (default: urandom).\n",
    "    \"\"\"\n",
    "    int_header = 0x30 + logn[sk.n]\n",
    "    header = int_header.to_bytes(1, \"little\")\n",
    "\n",
    "    salt = randombytes(SALT_LEN)\n",
    "    hashed = sk.hash_to_point(message, salt)\n",
    "\n",
    "    # We repeat the signing procedure until we find a signature that is\n",
    "    # short enough (both the Euclidean norm and the bytelength)\n",
    "    while(1):\n",
    "        if (randombytes == urandom):\n",
    "            s = sk.sample_preimage(hashed)\n",
    "        else:\n",
    "            seed = randombytes(SEED_LEN)\n",
    "            s = sk.sample_preimage(hashed, seed=seed)\n",
    "        norm_sign = sum(coef ** 2 for coef in s[0])\n",
    "        norm_sign += sum(coef ** 2 for coef in s[1])\n",
    "        # Check the Euclidean norm\n",
    "        if norm_sign > sk.signature_bound:\n",
    "            continue\n",
    "            \n",
    "        # Check that s2 (s[1]) is invertible by seeing that the NTT format doesn't have 0 as coeff\n",
    "        s2_ntt = ntt.ntt(s[1])\n",
    "        if not all(s2_ntt):\n",
    "            continue\n",
    "        \n",
    "        # signature is (compress(s1), compress(s2), r)\n",
    "        enc_s1 = compress(s[0], sk.sig_bytelen - HEAD_LEN - SALT_LEN)\n",
    "        enc_s2 = compress(s[1], sk.sig_bytelen - HEAD_LEN - SALT_LEN)\n",
    "        \n",
    "        \n",
    "        # Check that the encoding is valid (sometimes it fails)\n",
    "        if enc_s1 and enc_s2:\n",
    "            return header + enc_s1 + enc_s2 + salt"
   ],
   "outputs": [],
   "execution_count": 149
  },
  {
   "metadata": {
    "ExecuteTime": {
     "end_time": "2024-09-08T12:23:23.138984Z",
     "start_time": "2024-09-08T12:23:23.135706Z"
    }
   },
   "cell_type": "code",
   "source": [
    "def verify_pk_recovery(sk, pk, message, signature):\n",
    "    \"\"\"\n",
    "    Verify a signature.\n",
    "    \"\"\"\n",
    "    signature_length = sk.sig_bytelen - HEAD_LEN - SALT_LEN\n",
    "    \n",
    "    enc_s1 = signature[HEAD_LEN: signature_length + HEAD_LEN]\n",
    "    enc_s2 = signature[signature_length + HEAD_LEN: 2*signature_length + HEAD_LEN]\n",
    "    salt = signature[2*signature_length + HEAD_LEN:]\n",
    "    \n",
    "    # Need to unpack polynomial s1 and s2\n",
    "    s1 = decompress(enc_s1, signature_length, sk.n)\n",
    "    s2 = decompress(enc_s2, signature_length, sk.n)\n",
    "    \n",
    "    ## Check that s1 and s2 are valid\n",
    "    if not s1 or not s2:\n",
    "        print(\"Invalid encoding\")\n",
    "        return False\n",
    "\n",
    "    # Check that the (s1, s2) is short\n",
    "    norm_sign = sum(coef ** 2 for coef in s1)\n",
    "    norm_sign += sum(coef ** 2 for coef in s2)\n",
    "    if norm_sign > sk.signature_bound:\n",
    "        print(\"Squared norm of signature is too large:\", norm_sign)\n",
    "        return False\n",
    "    \n",
    "    # Check that pk = H(inverse(s2)*(HashToPoint(r||m, q, n) - s1))\n",
    "    \n",
    "    hash_to_point_message = sk.hash_to_point(message, salt)\n",
    "    recovered_pk = div_zq(sub_zq(hash_to_point_message, s1),s2)\n",
    "    \n",
    "    return recovered_pk == pk.h"
   ],
   "id": "38480e9cab15df2c",
   "outputs": [],
   "execution_count": 150
  },
  {
   "metadata": {},
   "cell_type": "markdown",
   "source": "The encoded values are concatenated into a bit sequence of 14n bits, which is then represented as ⌈14n/8⌉ bytes.",
   "id": "7071c6344b20b680"
  },
  {
   "metadata": {},
   "cell_type": "markdown",
   "source": "Display Correctness of public key recovery",
   "id": "b844df624e3e5d21"
  },
  {
   "metadata": {
    "ExecuteTime": {
     "end_time": "2024-09-08T12:23:59.768033Z",
     "start_time": "2024-09-08T12:23:57.838867Z"
    }
   },
   "cell_type": "code",
   "source": [
    "for i in range(100):\n",
    "    signature_pkr = sign_pk_recovery(sk, byte_string)\n",
    "    if not verify_pk_recovery(sk, pk, byte_string, signature_pkr):\n",
    "        print(f\"Failed round{i}\")"
   ],
   "id": "c5e3e8dde198f3c2",
   "outputs": [],
   "execution_count": 152
  },
  {
   "metadata": {},
   "cell_type": "markdown",
   "source": "Additional Tests",
   "id": "67c3e50800032d4c"
  },
  {
   "metadata": {
    "ExecuteTime": {
     "end_time": "2024-09-07T07:00:00.584080Z",
     "start_time": "2024-09-07T07:00:00.450164Z"
    }
   },
   "cell_type": "code",
   "source": [
    "n = 2\n",
    "sk = falcon.SecretKey(n)\n",
    "pk = falcon.PublicKey(sk)\n",
    "byte_string = b'test'\n",
    "signature = sk.sign(byte_string, seeded_rng)\n",
    "sk.verify(byte_string, signature)"
   ],
   "id": "1dde276fdadd3b73",
   "outputs": [
    {
     "data": {
      "text/plain": [
       "True"
      ]
     },
     "execution_count": 72,
     "metadata": {},
     "output_type": "execute_result"
    }
   ],
   "execution_count": 72
  },
  {
   "metadata": {
    "ExecuteTime": {
     "end_time": "2024-09-07T07:00:01.094096Z",
     "start_time": "2024-09-07T07:00:01.091919Z"
    }
   },
   "cell_type": "code",
   "source": "sk",
   "id": "9ffcebe39b484f",
   "outputs": [
    {
     "data": {
      "text/plain": [
       "Private key for n = 2:\n",
       "\n",
       "f = [-24, 60]\n",
       "g = [69, 32]\n",
       "F = [-93, 20]\n",
       "G = [-53, -66]"
      ]
     },
     "execution_count": 73,
     "metadata": {},
     "output_type": "execute_result"
    }
   ],
   "execution_count": 73
  },
  {
   "metadata": {
    "ExecuteTime": {
     "end_time": "2024-09-07T06:59:54.725037Z",
     "start_time": "2024-09-07T06:59:54.723098Z"
    }
   },
   "cell_type": "code",
   "source": "pk",
   "id": "c5cbbf64233e406c",
   "outputs": [
    {
     "data": {
      "text/plain": [
       "Public for n = 2:\n",
       "\n",
       "h = [3633, 11120]"
      ]
     },
     "execution_count": 69,
     "metadata": {},
     "output_type": "execute_result"
    }
   ],
   "execution_count": 69
  },
  {
   "metadata": {},
   "cell_type": "markdown",
   "source": "Showing that the NTRU Equation Holds",
   "id": "6d6582a9f2e9125d"
  },
  {
   "metadata": {
    "ExecuteTime": {
     "end_time": "2024-09-07T07:01:10.011440Z",
     "start_time": "2024-09-07T07:01:10.005538Z"
    }
   },
   "cell_type": "code",
   "source": [
    "t1 = sk.f[0]*sk.G[0]-sk.f[1]*sk.G[1]-sk.F[0]*sk.g[0]+sk.F[1]*sk.g[1]\n",
    "print(t1, t1%12289)"
   ],
   "id": "821d787e3cf6180a",
   "outputs": [
    {
     "name": "stdout",
     "output_type": "stream",
     "text": [
      "12289 0\n"
     ]
    }
   ],
   "execution_count": 76
  },
  {
   "metadata": {
    "ExecuteTime": {
     "end_time": "2024-09-07T07:01:11.020215Z",
     "start_time": "2024-09-07T07:01:11.016590Z"
    }
   },
   "cell_type": "code",
   "source": [
    "t2 = sk.f[0]*sk.G[1]+sk.f[1]*sk.G[0]-sk.F[1]*sk.g[0]-sk.F[0]*sk.g[1]\n",
    "print(t2, t2%12289)"
   ],
   "id": "1e8e1c3717ba8f9e",
   "outputs": [
    {
     "name": "stdout",
     "output_type": "stream",
     "text": [
      "0 0\n"
     ]
    }
   ],
   "execution_count": 77
  },
  {
   "metadata": {},
   "cell_type": "markdown",
   "source": [
    "Showing that G - Fh = 0 mod phi mod q\n",
    "- therefore B (A.T) = 0\n",
    "- B = {{g, -f}, {G, -F}}\n",
    "- A = {{1},{h}}\n",
    "- What about A = {{-h, I},{qI,0}}?"
   ],
   "id": "7a479e5e0b0da824"
  },
  {
   "metadata": {
    "ExecuteTime": {
     "end_time": "2024-09-07T07:02:46.959605Z",
     "start_time": "2024-09-07T07:02:46.955342Z"
    }
   },
   "cell_type": "code",
   "source": [
    "t1 = sk.G[1]-sk.F[1]*pk.h[0]-sk.F[0]*pk.h[1]\n",
    "print(t1, t1%12289)"
   ],
   "id": "e325eb71aaa8427a",
   "outputs": [
    {
     "name": "stdout",
     "output_type": "stream",
     "text": [
      "454693 0\n"
     ]
    }
   ],
   "execution_count": 80
  },
  {
   "metadata": {
    "ExecuteTime": {
     "end_time": "2024-09-07T07:02:48.028360Z",
     "start_time": "2024-09-07T07:02:48.026314Z"
    }
   },
   "cell_type": "code",
   "source": [
    "t2 = sk.G[0]-sk.F[0]*pk.h[0]+sk.F[1]*pk.h[1]\n",
    "print(t2, t2%12289)"
   ],
   "id": "2c24cfbb5aa5227a",
   "outputs": [
    {
     "name": "stdout",
     "output_type": "stream",
     "text": [
      "393248 0\n"
     ]
    }
   ],
   "execution_count": 81
  },
  {
   "metadata": {},
   "cell_type": "markdown",
   "source": "",
   "id": "8dc345f89f9bf551"
  },
  {
   "metadata": {},
   "cell_type": "code",
   "outputs": [],
   "execution_count": null,
   "source": "",
   "id": "bf8aa16c7d657fa"
  }
 ],
 "metadata": {
  "kernelspec": {
   "display_name": "Python 3 (ipykernel)",
   "language": "python",
   "name": "python3"
  },
  "language_info": {
   "codemirror_mode": {
    "name": "ipython",
    "version": 3
   },
   "file_extension": ".py",
   "mimetype": "text/x-python",
   "name": "python",
   "nbconvert_exporter": "python",
   "pygments_lexer": "ipython3",
   "version": "3.12.4"
  }
 },
 "nbformat": 4,
 "nbformat_minor": 5
}
