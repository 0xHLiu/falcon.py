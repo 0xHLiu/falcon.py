{
 "cells": [
  {
   "cell_type": "code",
   "execution_count": 1,
   "id": "5b497b3e-9aeb-45c5-9804-5b2a72a19381",
   "metadata": {},
   "outputs": [],
   "source": [
    "import falcon"
   ]
  },
  {
   "cell_type": "code",
   "execution_count": 26,
   "id": "60e646d7-288c-4e90-8be4-9e4469e660af",
   "metadata": {},
   "outputs": [],
   "source": [
    "sk = falcon.SecretKey(4)"
   ]
  },
  {
   "cell_type": "code",
   "execution_count": 27,
   "id": "a8eb8a20-401d-477a-8654-02217343b1f1",
   "metadata": {},
   "outputs": [
    {
     "data": {
      "text/plain": [
       "4"
      ]
     },
     "execution_count": 27,
     "metadata": {},
     "output_type": "execute_result"
    }
   ],
   "source": [
    "sk.n"
   ]
  },
  {
   "cell_type": "code",
   "execution_count": 28,
   "id": "214e52fc-7f58-4cf1-9347-dfd96a702c6a",
   "metadata": {},
   "outputs": [
    {
     "data": {
      "text/plain": [
       "Private key for n = 4:\n",
       "\n",
       "f = [43, 6, 23, 35]\n",
       "g = [-29, -75, 46, -24]\n",
       "F = [54, -3, 10, -54]\n",
       "G = [68, -72, -23, -28]"
      ]
     },
     "execution_count": 28,
     "metadata": {},
     "output_type": "execute_result"
    }
   ],
   "source": [
    "sk"
   ]
  },
  {
   "cell_type": "code",
   "execution_count": 29,
   "id": "519f35ba-95a2-48ca-a274-0c9f6b3f90e6",
   "metadata": {},
   "outputs": [],
   "source": [
    "pk = falcon.PublicKey(sk)"
   ]
  },
  {
   "cell_type": "code",
   "execution_count": 30,
   "id": "3c94828b-fcb3-4707-8a2d-bfc3df9d4eb5",
   "metadata": {},
   "outputs": [
    {
     "data": {
      "text/plain": [
       "Public for n = 4:\n",
       "\n",
       "h = [7230, 5635, 3516, 5471]"
      ]
     },
     "execution_count": 30,
     "metadata": {},
     "output_type": "execute_result"
    }
   ],
   "source": [
    "pk"
   ]
  },
  {
   "cell_type": "code",
   "execution_count": 22,
   "id": "d9cdb9a2-a084-47b2-924b-a1265868e82e",
   "metadata": {},
   "outputs": [],
   "source": [
    "byte_string_ex = b'%Ll\\xc9\\xda\\x98\\xef\\x80iF\\xebh\\x12\\xbc\\xc4\\xf6c\\xc4n\\x8a\\xa3\\xa6\\xbf\\xcdZ}\\xfd\\xfa\\xd7\\x16{k\\xb0,g}5\\xd7h\\x92\\x93\\x86y\\xf7\\xa5S\\xde\\x10S\\xb4\\xe8\\x8f\\xb3\\x012G\\x8aP\\xfc\\xe5,\\x86\\xf1\\xd4'"
   ]
  },
  {
   "cell_type": "code",
   "execution_count": 23,
   "id": "9eb7e8c3-15d9-4093-a7f0-f96b8cf2dcf6",
   "metadata": {},
   "outputs": [],
   "source": [
    "secret = sk.sign(byte_string_ex)"
   ]
  },
  {
   "cell_type": "code",
   "execution_count": 24,
   "id": "82c1acee-5788-4ed5-b2ba-73c836e5e8a0",
   "metadata": {},
   "outputs": [
    {
     "data": {
      "text/plain": [
       "b\"2\\xd6\\xc3\\xb2\\xf8\\x06\\xe9\\x7fT\\x7f\\x9d\\xf71N\\xdf\\x04\\xbd\\x98{\\x19J\\tf\\xe2~\\xa7\\x8cc'\\xc6\\x10{\\x9d\\xc2g\\xe5\\xd7\\xaeQ\\xd2\\xcck\\xe0\\xdbap\\x00\""
      ]
     },
     "execution_count": 24,
     "metadata": {},
     "output_type": "execute_result"
    }
   ],
   "source": [
    "secret"
   ]
  },
  {
   "cell_type": "code",
   "execution_count": 25,
   "id": "969e0196-08c1-454e-ad49-d6159db08c98",
   "metadata": {},
   "outputs": [
    {
     "data": {
      "text/plain": [
       "True"
      ]
     },
     "execution_count": 25,
     "metadata": {},
     "output_type": "execute_result"
    }
   ],
   "source": [
    "sk.verify(byte_string_ex, secret)"
   ]
  },
  {
   "cell_type": "code",
   "execution_count": null,
   "id": "dfcf4522-ddc3-42ef-b354-3c0ee8fd3db2",
   "metadata": {},
   "outputs": [],
   "source": []
  },
  {
   "cell_type": "code",
   "execution_count": null,
   "id": "0b0b4703-37b6-4821-86ed-e5c5d5159858",
   "metadata": {},
   "outputs": [],
   "source": []
  }
 ],
 "metadata": {
  "kernelspec": {
   "display_name": "Python 3 (ipykernel)",
   "language": "python",
   "name": "python3"
  },
  "language_info": {
   "codemirror_mode": {
    "name": "ipython",
    "version": 3
   },
   "file_extension": ".py",
   "mimetype": "text/x-python",
   "name": "python",
   "nbconvert_exporter": "python",
   "pygments_lexer": "ipython3",
   "version": "3.12.4"
  }
 },
 "nbformat": 4,
 "nbformat_minor": 5
}
